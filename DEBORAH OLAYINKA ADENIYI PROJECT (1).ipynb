{
 "cells": [
  {
   "cell_type": "markdown",
   "id": "bb03c994-2a79-4a96-80ca-2c6b377c1442",
   "metadata": {},
   "source": [
    "# EDA OF CANADA REFUGEES FROM 2012 TO 2022\n"
   ]
  },
  {
   "cell_type": "markdown",
   "id": "381faf92-a3cc-4c2d-8b73-c3edb08844d3",
   "metadata": {},
   "source": [
    "## \n",
    "The \n",
    "analysis aims to uncover patterns, distributions, and relationships within the data, enabling \r\n",
    "a deeper understanding of refugee movements and aiding in informed decision-making \r\n",
    "processes"
   ]
  },
  {
   "cell_type": "code",
   "execution_count": 1,
   "id": "32629ee3-b158-430d-844f-d87f618e8cfb",
   "metadata": {},
   "outputs": [],
   "source": [
    "#importing librarieS\n",
    "import numpy as np\n",
    "import pandas as pd\n",
    "import matplotlib.pyplot as plt\n",
    "import seaborn as sns\n",
    "import warnings\n",
    "warnings.filterwarnings('ignore')"
   ]
  },
  {
   "cell_type": "code",
   "execution_count": 4,
   "id": "4cf17218-bb69-4cc2-a532-6c6f7c8fb98d",
   "metadata": {},
   "outputs": [
    {
     "data": {
      "text/html": [
       "<div>\n",
       "<style scoped>\n",
       "    .dataframe tbody tr th:only-of-type {\n",
       "        vertical-align: middle;\n",
       "    }\n",
       "\n",
       "    .dataframe tbody tr th {\n",
       "        vertical-align: top;\n",
       "    }\n",
       "\n",
       "    .dataframe thead th {\n",
       "        text-align: right;\n",
       "    }\n",
       "</style>\n",
       "<table border=\"1\" class=\"dataframe\">\n",
       "  <thead>\n",
       "    <tr style=\"text-align: right;\">\n",
       "      <th></th>\n",
       "      <th>Year</th>\n",
       "      <th>Country-of-origin</th>\n",
       "      <th>UNHCR-refugees</th>\n",
       "      <th>Asylum-seekers</th>\n",
       "      <th>total-count</th>\n",
       "    </tr>\n",
       "  </thead>\n",
       "  <tbody>\n",
       "    <tr>\n",
       "      <th>0</th>\n",
       "      <td>2012</td>\n",
       "      <td>Afghanistan AF)</td>\n",
       "      <td>2609</td>\n",
       "      <td>411</td>\n",
       "      <td>3020</td>\n",
       "    </tr>\n",
       "    <tr>\n",
       "      <th>1</th>\n",
       "      <td>2012</td>\n",
       "      <td>Albania</td>\n",
       "      <td>1764</td>\n",
       "      <td>579</td>\n",
       "      <td>2343</td>\n",
       "    </tr>\n",
       "    <tr>\n",
       "      <th>2</th>\n",
       "      <td>2012</td>\n",
       "      <td>Algeria</td>\n",
       "      <td>513</td>\n",
       "      <td>284</td>\n",
       "      <td>797</td>\n",
       "    </tr>\n",
       "    <tr>\n",
       "      <th>3</th>\n",
       "      <td>2012</td>\n",
       "      <td>Angola</td>\n",
       "      <td>753</td>\n",
       "      <td>21</td>\n",
       "      <td>774</td>\n",
       "    </tr>\n",
       "    <tr>\n",
       "      <th>4</th>\n",
       "      <td>2012</td>\n",
       "      <td>Antigua and Barbuda</td>\n",
       "      <td>40</td>\n",
       "      <td>30</td>\n",
       "      <td>70</td>\n",
       "    </tr>\n",
       "    <tr>\n",
       "      <th>...</th>\n",
       "      <td>...</td>\n",
       "      <td>...</td>\n",
       "      <td>...</td>\n",
       "      <td>...</td>\n",
       "      <td>...</td>\n",
       "    </tr>\n",
       "    <tr>\n",
       "      <th>1865</th>\n",
       "      <td>2022</td>\n",
       "      <td>Venezuela (Bolivarian Republic of)</td>\n",
       "      <td>1497</td>\n",
       "      <td>2104</td>\n",
       "      <td>3601</td>\n",
       "    </tr>\n",
       "    <tr>\n",
       "      <th>1866</th>\n",
       "      <td>2022</td>\n",
       "      <td>Western Sahara</td>\n",
       "      <td>5</td>\n",
       "      <td>0</td>\n",
       "      <td>5</td>\n",
       "    </tr>\n",
       "    <tr>\n",
       "      <th>1867</th>\n",
       "      <td>2022</td>\n",
       "      <td>Yemen</td>\n",
       "      <td>450</td>\n",
       "      <td>452</td>\n",
       "      <td>902</td>\n",
       "    </tr>\n",
       "    <tr>\n",
       "      <th>1868</th>\n",
       "      <td>2022</td>\n",
       "      <td>Zambia</td>\n",
       "      <td>23</td>\n",
       "      <td>25</td>\n",
       "      <td>48</td>\n",
       "    </tr>\n",
       "    <tr>\n",
       "      <th>1869</th>\n",
       "      <td>2022</td>\n",
       "      <td>Zimbabwe</td>\n",
       "      <td>309</td>\n",
       "      <td>562</td>\n",
       "      <td>871</td>\n",
       "    </tr>\n",
       "  </tbody>\n",
       "</table>\n",
       "<p>1870 rows × 5 columns</p>\n",
       "</div>"
      ],
      "text/plain": [
       "      Year                   Country-of-origin  UNHCR-refugees  \\\n",
       "0     2012                     Afghanistan AF)            2609   \n",
       "1     2012                             Albania            1764   \n",
       "2     2012                             Algeria             513   \n",
       "3     2012                              Angola             753   \n",
       "4     2012                 Antigua and Barbuda              40   \n",
       "...    ...                                 ...             ...   \n",
       "1865  2022  Venezuela (Bolivarian Republic of)            1497   \n",
       "1866  2022                      Western Sahara               5   \n",
       "1867  2022                               Yemen             450   \n",
       "1868  2022                              Zambia              23   \n",
       "1869  2022                            Zimbabwe             309   \n",
       "\n",
       "      Asylum-seekers  total-count  \n",
       "0                411         3020  \n",
       "1                579         2343  \n",
       "2                284          797  \n",
       "3                 21          774  \n",
       "4                 30           70  \n",
       "...              ...          ...  \n",
       "1865            2104         3601  \n",
       "1866               0            5  \n",
       "1867             452          902  \n",
       "1868              25           48  \n",
       "1869             562          871  \n",
       "\n",
       "[1870 rows x 5 columns]"
      ]
     },
     "execution_count": 4,
     "metadata": {},
     "output_type": "execute_result"
    }
   ],
   "source": [
    "# loading my csv file into a datafram\n",
    "df= pd.read_csv('can-stats-2012-22.csv')\n",
    "df"
   ]
  },
  {
   "cell_type": "code",
   "execution_count": 6,
   "id": "d48d436f-8798-475c-8672-4fc5a1bdcc35",
   "metadata": {},
   "outputs": [
    {
     "name": "stdout",
     "output_type": "stream",
     "text": [
      "the shape of the dataset is (1870, 5)\n",
      "the dataset has 1870 rows and 5 colums\n"
     ]
    }
   ],
   "source": [
    "df.shape\n",
    "print(f'the shape of the dataset is {df.shape}')\n",
    "print(f'the dataset has {df.shape[0]} rows and {df.shape[1]} colums')"
   ]
  },
  {
   "cell_type": "code",
   "execution_count": 5,
   "id": "bd7a1e18-4642-4f40-9353-a82c1ec1f718",
   "metadata": {},
   "outputs": [
    {
     "name": "stdout",
     "output_type": "stream",
     "text": [
      "<class 'pandas.core.frame.DataFrame'>\n",
      "RangeIndex: 1870 entries, 0 to 1869\n",
      "Data columns (total 5 columns):\n",
      " #   Column             Non-Null Count  Dtype \n",
      "---  ------             --------------  ----- \n",
      " 0   Year               1870 non-null   int64 \n",
      " 1   Country-of-origin  1870 non-null   object\n",
      " 2   UNHCR-refugees     1870 non-null   int64 \n",
      " 3   Asylum-seekers     1870 non-null   int64 \n",
      " 4   total-count        1870 non-null   int64 \n",
      "dtypes: int64(4), object(1)\n",
      "memory usage: 73.2+ KB\n"
     ]
    }
   ],
   "source": [
    "df.info()"
   ]
  },
  {
   "cell_type": "code",
   "execution_count": 6,
   "id": "a482844f-125f-4007-a23f-16d8ea385d51",
   "metadata": {},
   "outputs": [
    {
     "data": {
      "text/html": [
       "<div>\n",
       "<style scoped>\n",
       "    .dataframe tbody tr th:only-of-type {\n",
       "        vertical-align: middle;\n",
       "    }\n",
       "\n",
       "    .dataframe tbody tr th {\n",
       "        vertical-align: top;\n",
       "    }\n",
       "\n",
       "    .dataframe thead th {\n",
       "        text-align: right;\n",
       "    }\n",
       "</style>\n",
       "<table border=\"1\" class=\"dataframe\">\n",
       "  <thead>\n",
       "    <tr style=\"text-align: right;\">\n",
       "      <th></th>\n",
       "      <th>count</th>\n",
       "      <th>mean</th>\n",
       "      <th>std</th>\n",
       "      <th>min</th>\n",
       "      <th>25%</th>\n",
       "      <th>50%</th>\n",
       "      <th>75%</th>\n",
       "      <th>max</th>\n",
       "    </tr>\n",
       "  </thead>\n",
       "  <tbody>\n",
       "    <tr>\n",
       "      <th>Year</th>\n",
       "      <td>1870.0</td>\n",
       "      <td>2016.955615</td>\n",
       "      <td>3.167123</td>\n",
       "      <td>2012.0</td>\n",
       "      <td>2014.00</td>\n",
       "      <td>2017.0</td>\n",
       "      <td>2020.00</td>\n",
       "      <td>2022.0</td>\n",
       "    </tr>\n",
       "    <tr>\n",
       "      <th>UNHCR-refugees</th>\n",
       "      <td>1870.0</td>\n",
       "      <td>752.438503</td>\n",
       "      <td>2427.738942</td>\n",
       "      <td>0.0</td>\n",
       "      <td>20.00</td>\n",
       "      <td>124.0</td>\n",
       "      <td>563.75</td>\n",
       "      <td>75098.0</td>\n",
       "    </tr>\n",
       "    <tr>\n",
       "      <th>Asylum-seekers</th>\n",
       "      <td>1870.0</td>\n",
       "      <td>323.139572</td>\n",
       "      <td>1181.143362</td>\n",
       "      <td>0.0</td>\n",
       "      <td>7.00</td>\n",
       "      <td>36.0</td>\n",
       "      <td>195.25</td>\n",
       "      <td>19765.0</td>\n",
       "    </tr>\n",
       "    <tr>\n",
       "      <th>total-count</th>\n",
       "      <td>1870.0</td>\n",
       "      <td>1075.578075</td>\n",
       "      <td>2980.751399</td>\n",
       "      <td>0.0</td>\n",
       "      <td>39.25</td>\n",
       "      <td>187.0</td>\n",
       "      <td>889.75</td>\n",
       "      <td>75294.0</td>\n",
       "    </tr>\n",
       "  </tbody>\n",
       "</table>\n",
       "</div>"
      ],
      "text/plain": [
       "                 count         mean          std     min      25%     50%  \\\n",
       "Year            1870.0  2016.955615     3.167123  2012.0  2014.00  2017.0   \n",
       "UNHCR-refugees  1870.0   752.438503  2427.738942     0.0    20.00   124.0   \n",
       "Asylum-seekers  1870.0   323.139572  1181.143362     0.0     7.00    36.0   \n",
       "total-count     1870.0  1075.578075  2980.751399     0.0    39.25   187.0   \n",
       "\n",
       "                    75%      max  \n",
       "Year            2020.00   2022.0  \n",
       "UNHCR-refugees   563.75  75098.0  \n",
       "Asylum-seekers   195.25  19765.0  \n",
       "total-count      889.75  75294.0  "
      ]
     },
     "execution_count": 6,
     "metadata": {},
     "output_type": "execute_result"
    }
   ],
   "source": [
    "# descriptive Statistics\n",
    "df.describe().T"
   ]
  },
  {
   "cell_type": "markdown",
   "id": "d3187b9e-3f01-49db-bb06-4136ab5c1901",
   "metadata": {},
   "source": [
    "### Observations"
   ]
  },
  {
   "cell_type": "markdown",
   "id": "5a04b55a-98bf-4090-9318-83a4f3742821",
   "metadata": {},
   "source": [
    "#### \n",
    "1. The dataset runs from 2012 t0 2022\r\n",
    "2. The total number of refugees and asylum seekers ranged from 0 to 75294 with UNHCR-refugees standing maximally at 75098 while maximum number of asylum seekers stood at 19765."
   ]
  },
  {
   "cell_type": "code",
   "execution_count": 7,
   "id": "01d48c4f-abf7-457f-8bd2-af7bfe554ede",
   "metadata": {},
   "outputs": [
    {
     "data": {
      "text/html": [
       "<div>\n",
       "<style scoped>\n",
       "    .dataframe tbody tr th:only-of-type {\n",
       "        vertical-align: middle;\n",
       "    }\n",
       "\n",
       "    .dataframe tbody tr th {\n",
       "        vertical-align: top;\n",
       "    }\n",
       "\n",
       "    .dataframe thead th {\n",
       "        text-align: right;\n",
       "    }\n",
       "</style>\n",
       "<table border=\"1\" class=\"dataframe\">\n",
       "  <thead>\n",
       "    <tr style=\"text-align: right;\">\n",
       "      <th></th>\n",
       "      <th>Year</th>\n",
       "      <th>UNHCR-refugees</th>\n",
       "      <th>Asylum-seekers</th>\n",
       "      <th>total-count</th>\n",
       "    </tr>\n",
       "  </thead>\n",
       "  <tbody>\n",
       "    <tr>\n",
       "      <th>Year</th>\n",
       "      <td>1.000000</td>\n",
       "      <td>-0.024037</td>\n",
       "      <td>0.144239</td>\n",
       "      <td>0.037578</td>\n",
       "    </tr>\n",
       "    <tr>\n",
       "      <th>UNHCR-refugees</th>\n",
       "      <td>-0.024037</td>\n",
       "      <td>1.000000</td>\n",
       "      <td>0.278267</td>\n",
       "      <td>0.924737</td>\n",
       "    </tr>\n",
       "    <tr>\n",
       "      <th>Asylum-seekers</th>\n",
       "      <td>0.144239</td>\n",
       "      <td>0.278267</td>\n",
       "      <td>1.000000</td>\n",
       "      <td>0.622897</td>\n",
       "    </tr>\n",
       "    <tr>\n",
       "      <th>total-count</th>\n",
       "      <td>0.037578</td>\n",
       "      <td>0.924737</td>\n",
       "      <td>0.622897</td>\n",
       "      <td>1.000000</td>\n",
       "    </tr>\n",
       "  </tbody>\n",
       "</table>\n",
       "</div>"
      ],
      "text/plain": [
       "                    Year  UNHCR-refugees  Asylum-seekers  total-count\n",
       "Year            1.000000       -0.024037        0.144239     0.037578\n",
       "UNHCR-refugees -0.024037        1.000000        0.278267     0.924737\n",
       "Asylum-seekers  0.144239        0.278267        1.000000     0.622897\n",
       "total-count     0.037578        0.924737        0.622897     1.000000"
      ]
     },
     "execution_count": 7,
     "metadata": {},
     "output_type": "execute_result"
    }
   ],
   "source": [
    "df.corr(numeric_only = True)"
   ]
  },
  {
   "cell_type": "code",
   "execution_count": 8,
   "id": "6d64e4e4-d597-473d-98fb-ce287f22ac95",
   "metadata": {},
   "outputs": [
    {
     "data": {
      "text/plain": [
       "0"
      ]
     },
     "execution_count": 8,
     "metadata": {},
     "output_type": "execute_result"
    }
   ],
   "source": [
    "# checking for duplicates\n",
    "df.duplicated().sum()"
   ]
  },
  {
   "cell_type": "markdown",
   "id": "c67e8ac1-a8cf-4ac8-9394-345cb8cb652d",
   "metadata": {},
   "source": [
    "##### There are no duplicates in the data set"
   ]
  },
  {
   "cell_type": "code",
   "execution_count": 9,
   "id": "27cbcad6-7e21-4d19-991d-da762b755446",
   "metadata": {},
   "outputs": [
    {
     "data": {
      "text/plain": [
       "Year                 0\n",
       "Country-of-origin    0\n",
       "UNHCR-refugees       0\n",
       "Asylum-seekers       0\n",
       "total-count          0\n",
       "dtype: int64"
      ]
     },
     "execution_count": 9,
     "metadata": {},
     "output_type": "execute_result"
    }
   ],
   "source": [
    "# confirming missing values\n",
    "df.isnull().sum()"
   ]
  },
  {
   "cell_type": "markdown",
   "id": "30d83c3c-9d64-4d68-8629-17b604046e9f",
   "metadata": {},
   "source": [
    "#### There are no missing values in the dataset"
   ]
  },
  {
   "cell_type": "markdown",
   "id": "7cd2b535-0e18-44da-947c-158e279cd375",
   "metadata": {},
   "source": [
    "# Analysis Question"
   ]
  },
  {
   "cell_type": "markdown",
   "id": "13dfb065-8c50-4d00-a3ca-e147e5cc92be",
   "metadata": {},
   "source": [
    "#### 1. From which countries has Canada admitted the highest number of refugees (limit \n",
    "to top 5)?"
   ]
  },
  {
   "cell_type": "code",
   "execution_count": 43,
   "id": "2176d7c7-b30a-4e6d-89ce-55dba20b96be",
   "metadata": {},
   "outputs": [
    {
     "data": {
      "text/html": [
       "<div>\n",
       "<style scoped>\n",
       "    .dataframe tbody tr th:only-of-type {\n",
       "        vertical-align: middle;\n",
       "    }\n",
       "\n",
       "    .dataframe tbody tr th {\n",
       "        vertical-align: top;\n",
       "    }\n",
       "\n",
       "    .dataframe thead th {\n",
       "        text-align: right;\n",
       "    }\n",
       "</style>\n",
       "<table border=\"1\" class=\"dataframe\">\n",
       "  <thead>\n",
       "    <tr style=\"text-align: right;\">\n",
       "      <th></th>\n",
       "      <th>Country-of-origin</th>\n",
       "      <th>UNHCR-refugees</th>\n",
       "    </tr>\n",
       "  </thead>\n",
       "  <tbody>\n",
       "    <tr>\n",
       "      <th>0</th>\n",
       "      <td>Colombia</td>\n",
       "      <td>108416</td>\n",
       "    </tr>\n",
       "    <tr>\n",
       "      <th>1</th>\n",
       "      <td>China</td>\n",
       "      <td>98586</td>\n",
       "    </tr>\n",
       "    <tr>\n",
       "      <th>2</th>\n",
       "      <td>Ukraine</td>\n",
       "      <td>88376</td>\n",
       "    </tr>\n",
       "    <tr>\n",
       "      <th>3</th>\n",
       "      <td>Pakistan</td>\n",
       "      <td>74737</td>\n",
       "    </tr>\n",
       "    <tr>\n",
       "      <th>4</th>\n",
       "      <td>Haiti</td>\n",
       "      <td>70956</td>\n",
       "    </tr>\n",
       "  </tbody>\n",
       "</table>\n",
       "</div>"
      ],
      "text/plain": [
       "  Country-of-origin  UNHCR-refugees\n",
       "0          Colombia          108416\n",
       "1             China           98586\n",
       "2           Ukraine           88376\n",
       "3          Pakistan           74737\n",
       "4             Haiti           70956"
      ]
     },
     "execution_count": 43,
     "metadata": {},
     "output_type": "execute_result"
    }
   ],
   "source": [
    "highest_refugees =df['UNHCR-refugees'].groupby(by=df['Country-of-origin']).sum().sort_values(ascending = False).reset_index()[0:5]\n",
    "highest_refugees"
   ]
  },
  {
   "cell_type": "code",
   "execution_count": 45,
   "id": "1c5432e1-8d6e-4be5-b856-daca72ead4d6",
   "metadata": {},
   "outputs": [
    {
     "data": {
      "image/png": "[encoded data removed]",
      "text/plain": [
       "<Figure size 500x300 with 1 Axes>"
      ]
     },
     "metadata": {},
     "output_type": "display_data"
    }
   ],
   "source": [
    " #Visualizing using Seaborn\n",
    "plt.figure(figsize =(5,3))\n",
    "sns.barplot(x='Country-of-origin',y='UNHCR-refugees',data =highest_refugees)\n",
    "plt.title('Countries with Highest Number of Refugees Admitted into Canada')\n",
    "plt.xlabel('Country')\n",
    "plt.ylabel('Total-refugees')\n",
    "plt.show()"
   ]
  },
  {
   "cell_type": "markdown",
   "id": "959e36cf-5735-4f77-8c43-69ba07d5c0d3",
   "metadata": {},
   "source": [
    "#### 2.2. What are the total number of resettled refugees in Canada per year?"
   ]
  },
  {
   "cell_type": "code",
   "execution_count": 28,
   "id": "49dd2eb0-e175-498b-b286-385abf88bf9f",
   "metadata": {},
   "outputs": [
    {
     "data": {
      "text/plain": [
       "Year\n",
       "2012    163751\n",
       "2013    160347\n",
       "2014    149164\n",
       "2015    135890\n",
       "2016     97322\n",
       "2017    104768\n",
       "2018    114101\n",
       "2019    101757\n",
       "2020    109214\n",
       "2021    130125\n",
       "2022    140621\n",
       "Name: UNHCR-refugees, dtype: int64"
      ]
     },
     "execution_count": 28,
     "metadata": {},
     "output_type": "execute_result"
    }
   ],
   "source": [
    "Yearcount_refugees =df['UNHCR-refugees'].groupby(by=df['Year']).sum()\n",
    "Yearcount_refugees"
   ]
  },
  {
   "cell_type": "code",
   "execution_count": 29,
   "id": "55887b18-371f-4bc3-a193-b1f22ab922d1",
   "metadata": {},
   "outputs": [
    {
     "data": {
      "image/png": "[encoded data removed]",
      "text/plain": [
       "<Figure size 500x300 with 1 Axes>"
      ]
     },
     "metadata": {},
     "output_type": "display_data"
    }
   ],
   "source": [
    " #Visualizing using Pandas\n",
    "plt.figure(figsize =(5,3))\n",
    "Yearcount_refugees.plot(kind= 'bar')\n",
    "plt.title('Total Number of Resettled Refugees in Canada Per Year')\n",
    "plt.xlabel('Year')\n",
    "plt.ylabel('Total-refugees')\n",
    "plt.show()"
   ]
  },
  {
   "cell_type": "code",
   "execution_count": 21,
   "id": "7bf44076-4a31-46a9-b273-42ee381021aa",
   "metadata": {},
   "outputs": [
    {
     "data": {
      "text/html": [
       "<div>\n",
       "<style scoped>\n",
       "    .dataframe tbody tr th:only-of-type {\n",
       "        vertical-align: middle;\n",
       "    }\n",
       "\n",
       "    .dataframe tbody tr th {\n",
       "        vertical-align: top;\n",
       "    }\n",
       "\n",
       "    .dataframe thead th {\n",
       "        text-align: right;\n",
       "    }\n",
       "</style>\n",
       "<table border=\"1\" class=\"dataframe\">\n",
       "  <thead>\n",
       "    <tr style=\"text-align: right;\">\n",
       "      <th></th>\n",
       "      <th>Year</th>\n",
       "      <th>Country-of-origin</th>\n",
       "      <th>UNHCR-refugees</th>\n",
       "      <th>Asylum-seekers</th>\n",
       "      <th>total-count</th>\n",
       "    </tr>\n",
       "  </thead>\n",
       "  <tbody>\n",
       "    <tr>\n",
       "      <th>0</th>\n",
       "      <td>2012</td>\n",
       "      <td>Afghanistan AF)</td>\n",
       "      <td>2609</td>\n",
       "      <td>411</td>\n",
       "      <td>3020</td>\n",
       "    </tr>\n",
       "    <tr>\n",
       "      <th>1</th>\n",
       "      <td>2012</td>\n",
       "      <td>Albania</td>\n",
       "      <td>1764</td>\n",
       "      <td>579</td>\n",
       "      <td>2343</td>\n",
       "    </tr>\n",
       "    <tr>\n",
       "      <th>2</th>\n",
       "      <td>2012</td>\n",
       "      <td>Algeria</td>\n",
       "      <td>513</td>\n",
       "      <td>284</td>\n",
       "      <td>797</td>\n",
       "    </tr>\n",
       "    <tr>\n",
       "      <th>3</th>\n",
       "      <td>2012</td>\n",
       "      <td>Angola</td>\n",
       "      <td>753</td>\n",
       "      <td>21</td>\n",
       "      <td>774</td>\n",
       "    </tr>\n",
       "    <tr>\n",
       "      <th>4</th>\n",
       "      <td>2012</td>\n",
       "      <td>Antigua and Barbuda</td>\n",
       "      <td>40</td>\n",
       "      <td>30</td>\n",
       "      <td>70</td>\n",
       "    </tr>\n",
       "  </tbody>\n",
       "</table>\n",
       "</div>"
      ],
      "text/plain": [
       "   Year    Country-of-origin  UNHCR-refugees  Asylum-seekers  total-count\n",
       "0  2012      Afghanistan AF)            2609             411         3020\n",
       "1  2012              Albania            1764             579         2343\n",
       "2  2012              Algeria             513             284          797\n",
       "3  2012               Angola             753              21          774\n",
       "4  2012  Antigua and Barbuda              40              30           70"
      ]
     },
     "execution_count": 21,
     "metadata": {},
     "output_type": "execute_result"
    }
   ],
   "source": [
    "df.head()"
   ]
  },
  {
   "cell_type": "markdown",
   "id": "33630536-f738-48f8-be04-45a4feb40735",
   "metadata": {},
   "source": [
    "#### 3. What are the countries of origin for the majority of asylum claims made in \n",
    "Canada? (limit to top 7)"
   ]
  },
  {
   "cell_type": "code",
   "execution_count": 30,
   "id": "8f4e53fa-27fa-4396-b0cb-83e6ec914fb3",
   "metadata": {
    "scrolled": true
   },
   "outputs": [
    {
     "data": {
      "text/html": [
       "<div>\n",
       "<style scoped>\n",
       "    .dataframe tbody tr th:only-of-type {\n",
       "        vertical-align: middle;\n",
       "    }\n",
       "\n",
       "    .dataframe tbody tr th {\n",
       "        vertical-align: top;\n",
       "    }\n",
       "\n",
       "    .dataframe thead th {\n",
       "        text-align: right;\n",
       "    }\n",
       "</style>\n",
       "<table border=\"1\" class=\"dataframe\">\n",
       "  <thead>\n",
       "    <tr style=\"text-align: right;\">\n",
       "      <th></th>\n",
       "      <th>Country-of-origin</th>\n",
       "      <th>Asylum-seekers</th>\n",
       "    </tr>\n",
       "  </thead>\n",
       "  <tbody>\n",
       "    <tr>\n",
       "      <th>0</th>\n",
       "      <td>Unknown</td>\n",
       "      <td>56098</td>\n",
       "    </tr>\n",
       "    <tr>\n",
       "      <th>1</th>\n",
       "      <td>Nigeria</td>\n",
       "      <td>51620</td>\n",
       "    </tr>\n",
       "    <tr>\n",
       "      <th>2</th>\n",
       "      <td>India</td>\n",
       "      <td>48806</td>\n",
       "    </tr>\n",
       "    <tr>\n",
       "      <th>3</th>\n",
       "      <td>Mexico</td>\n",
       "      <td>45774</td>\n",
       "    </tr>\n",
       "    <tr>\n",
       "      <th>4</th>\n",
       "      <td>Haiti</td>\n",
       "      <td>40908</td>\n",
       "    </tr>\n",
       "    <tr>\n",
       "      <th>5</th>\n",
       "      <td>Colombia</td>\n",
       "      <td>30475</td>\n",
       "    </tr>\n",
       "    <tr>\n",
       "      <th>6</th>\n",
       "      <td>China</td>\n",
       "      <td>21526</td>\n",
       "    </tr>\n",
       "  </tbody>\n",
       "</table>\n",
       "</div>"
      ],
      "text/plain": [
       "  Country-of-origin  Asylum-seekers\n",
       "0           Unknown           56098\n",
       "1           Nigeria           51620\n",
       "2             India           48806\n",
       "3            Mexico           45774\n",
       "4             Haiti           40908\n",
       "5          Colombia           30475\n",
       "6             China           21526"
      ]
     },
     "execution_count": 30,
     "metadata": {},
     "output_type": "execute_result"
    }
   ],
   "source": [
    "highest_asylum =df['Asylum-seekers'].groupby(by=df['Country-of-origin']).sum().sort_values(ascending = False).reset_index()[0:7]\n",
    "highest_asylum"
   ]
  },
  {
   "cell_type": "code",
   "execution_count": 31,
   "id": "573e2b0e-a2ce-48e5-b26b-074f0326b50f",
   "metadata": {},
   "outputs": [
    {
     "data": {
      "image/png": "[encoded data removed]",
      "text/plain": [
       "<Figure size 500x300 with 1 Axes>"
      ]
     },
     "metadata": {},
     "output_type": "display_data"
    }
   ],
   "source": [
    " #Visualizing using Seaborn\n",
    "plt.figure(figsize =(5,3))\n",
    "sns.barplot(x='Country-of-origin',y='Asylum-seekers',data =highest_asylum)\n",
    "plt.title('countries of origin for the majority of asylum claims made in Canada')\n",
    "plt.xlabel('Country')\n",
    "plt.ylabel('Total-AsylumSeekers')\n",
    "plt.show()"
   ]
  },
  {
   "cell_type": "markdown",
   "id": "04a584c8-e39a-47ab-87b4-e8108c629d25",
   "metadata": {},
   "source": [
    "#### 4. What is the total number of asylum claims made in Canada every year?\r"
   ]
  },
  {
   "cell_type": "code",
   "execution_count": 32,
   "id": "ccaec8a3-641c-4873-822d-668ca8958827",
   "metadata": {},
   "outputs": [
    {
     "data": {
      "text/plain": [
       "Year\n",
       "2012     32647\n",
       "2013     22145\n",
       "2014     16699\n",
       "2015     19631\n",
       "2016     23946\n",
       "2017     51859\n",
       "2018     78766\n",
       "2019     97017\n",
       "2020     85352\n",
       "2021     63143\n",
       "2022    113066\n",
       "Name: Asylum-seekers, dtype: int64"
      ]
     },
     "execution_count": 32,
     "metadata": {},
     "output_type": "execute_result"
    }
   ],
   "source": [
    "Yearcount_asylum =df['Asylum-seekers'].groupby(by=df['Year']).sum()\n",
    "Yearcount_asylum"
   ]
  },
  {
   "cell_type": "code",
   "execution_count": 42,
   "id": "4433f00d-0ac1-46a0-8c80-b46a40a77b81",
   "metadata": {},
   "outputs": [
    {
     "data": {
      "image/png": "[encoded data removed]",
      "text/plain": [
       "<Figure size 500x300 with 1 Axes>"
      ]
     },
     "metadata": {},
     "output_type": "display_data"
    }
   ],
   "source": [
    "#Visualizing using Pandas\n",
    "plt.figure(figsize =(5,3))\n",
    "Yearcount_asylum.plot(kind= 'bar')\n",
    "plt.legend()\n",
    "plt.title('total number of asylum claims made in Canada every year')\n",
    "plt.xlabel('Year')\n",
    "plt.ylabel('Total-asylumseekers')\n",
    "plt.show()"
   ]
  },
  {
   "cell_type": "markdown",
   "id": "0c41387d-a97a-46a3-86ae-b10a311d6d00",
   "metadata": {},
   "source": [
    "#### 5. What are the general trends in refugee and asylum statistics from 2012-2022?\r\n",
    "(Hint: Unpivoting the refugee and asylum column so it becomes rows with each of \r\n",
    "their values beside as another column, you might need to use pd.melt)"
   ]
  },
  {
   "cell_type": "code",
   "execution_count": 37,
   "id": "22495791-e7a3-455b-9629-c4bc5b8d930b",
   "metadata": {},
   "outputs": [
    {
     "data": {
      "text/html": [
       "<div>\n",
       "<style scoped>\n",
       "    .dataframe tbody tr th:only-of-type {\n",
       "        vertical-align: middle;\n",
       "    }\n",
       "\n",
       "    .dataframe tbody tr th {\n",
       "        vertical-align: top;\n",
       "    }\n",
       "\n",
       "    .dataframe thead th {\n",
       "        text-align: right;\n",
       "    }\n",
       "</style>\n",
       "<table border=\"1\" class=\"dataframe\">\n",
       "  <thead>\n",
       "    <tr style=\"text-align: right;\">\n",
       "      <th></th>\n",
       "      <th>Year</th>\n",
       "      <th>Category</th>\n",
       "      <th>Count</th>\n",
       "    </tr>\n",
       "  </thead>\n",
       "  <tbody>\n",
       "    <tr>\n",
       "      <th>0</th>\n",
       "      <td>2012</td>\n",
       "      <td>UNHCR-refugees</td>\n",
       "      <td>2609</td>\n",
       "    </tr>\n",
       "    <tr>\n",
       "      <th>1</th>\n",
       "      <td>2012</td>\n",
       "      <td>UNHCR-refugees</td>\n",
       "      <td>1764</td>\n",
       "    </tr>\n",
       "    <tr>\n",
       "      <th>2</th>\n",
       "      <td>2012</td>\n",
       "      <td>UNHCR-refugees</td>\n",
       "      <td>513</td>\n",
       "    </tr>\n",
       "    <tr>\n",
       "      <th>3</th>\n",
       "      <td>2012</td>\n",
       "      <td>UNHCR-refugees</td>\n",
       "      <td>753</td>\n",
       "    </tr>\n",
       "    <tr>\n",
       "      <th>4</th>\n",
       "      <td>2012</td>\n",
       "      <td>UNHCR-refugees</td>\n",
       "      <td>40</td>\n",
       "    </tr>\n",
       "    <tr>\n",
       "      <th>...</th>\n",
       "      <td>...</td>\n",
       "      <td>...</td>\n",
       "      <td>...</td>\n",
       "    </tr>\n",
       "    <tr>\n",
       "      <th>3735</th>\n",
       "      <td>2022</td>\n",
       "      <td>Asylum-seekers</td>\n",
       "      <td>2104</td>\n",
       "    </tr>\n",
       "    <tr>\n",
       "      <th>3736</th>\n",
       "      <td>2022</td>\n",
       "      <td>Asylum-seekers</td>\n",
       "      <td>0</td>\n",
       "    </tr>\n",
       "    <tr>\n",
       "      <th>3737</th>\n",
       "      <td>2022</td>\n",
       "      <td>Asylum-seekers</td>\n",
       "      <td>452</td>\n",
       "    </tr>\n",
       "    <tr>\n",
       "      <th>3738</th>\n",
       "      <td>2022</td>\n",
       "      <td>Asylum-seekers</td>\n",
       "      <td>25</td>\n",
       "    </tr>\n",
       "    <tr>\n",
       "      <th>3739</th>\n",
       "      <td>2022</td>\n",
       "      <td>Asylum-seekers</td>\n",
       "      <td>562</td>\n",
       "    </tr>\n",
       "  </tbody>\n",
       "</table>\n",
       "<p>3740 rows × 3 columns</p>\n",
       "</div>"
      ],
      "text/plain": [
       "      Year        Category  Count\n",
       "0     2012  UNHCR-refugees   2609\n",
       "1     2012  UNHCR-refugees   1764\n",
       "2     2012  UNHCR-refugees    513\n",
       "3     2012  UNHCR-refugees    753\n",
       "4     2012  UNHCR-refugees     40\n",
       "...    ...             ...    ...\n",
       "3735  2022  Asylum-seekers   2104\n",
       "3736  2022  Asylum-seekers      0\n",
       "3737  2022  Asylum-seekers    452\n",
       "3738  2022  Asylum-seekers     25\n",
       "3739  2022  Asylum-seekers    562\n",
       "\n",
       "[3740 rows x 3 columns]"
      ]
     },
     "execution_count": 37,
     "metadata": {},
     "output_type": "execute_result"
    }
   ],
   "source": [
    "# Unpivot the data using pd.melt\n",
    "df_melted = pd.melt(df, id_vars=['Year'], value_vars=['UNHCR-refugees', 'Asylum-seekers'],\n",
    "                    var_name='Category', value_name='Count')\n",
    "df_melted"
   ]
  },
  {
   "cell_type": "code",
   "execution_count": 40,
   "id": "153fc911-779f-4f86-9bd8-d36ba5cc2258",
   "metadata": {},
   "outputs": [
    {
     "data": {
      "image/png": "[encoded data removed]",
      "text/plain": [
       "<Figure size 500x300 with 1 Axes>"
      ]
     },
     "metadata": {},
     "output_type": "display_data"
    }
   ],
   "source": [
    "# Plotting the trends\n",
    "plt.figure(figsize=(5, 3))\n",
    "for category in df_melted['Category'].unique():\n",
    "    subset = df_melted[df_melted['Category'] == category]\n",
    "    plt.plot(subset['Year'], subset['Count'], label=category)\n",
    "\n",
    "plt.xlabel('Year')\n",
    "plt.ylabel('Count')\n",
    "plt.title('Trends in Refugee and Asylum Seeker Statistics (2012-2022)')\n",
    "plt.legend()\n",
    "plt.grid(False)\n",
    "plt.show()"
   ]
  },
  {
   "cell_type": "code",
   "execution_count": null,
   "id": "8243aa1e-7da2-48ac-869c-fc5552052951",
   "metadata": {},
   "outputs": [],
   "source": []
  }
 ],
 "metadata": {
  "kernelspec": {
   "display_name": "Python 3 (ipykernel)",
   "language": "python",
   "name": "python3"
  },
  "language_info": {
   "codemirror_mode": {
    "name": "ipython",
    "version": 3
   },
   "file_extension": ".py",
   "mimetype": "text/x-python",
   "name": "python",
   "nbconvert_exporter": "python",
   "pygments_lexer": "ipython3",
   "version": "3.11.7"
  }
 },
 "nbformat": 4,
 "nbformat_minor": 5
}
